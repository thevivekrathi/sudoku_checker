{
  "nbformat": 4,
  "nbformat_minor": 0,
  "metadata": {
    "colab": {
      "name": "Sudoku_Checker.ipynb",
      "provenance": [],
      "authorship_tag": "ABX9TyMgLfAwr4pPZpkA33zCtf1F",
      "include_colab_link": true
    },
    "kernelspec": {
      "name": "python3",
      "display_name": "Python 3"
    },
    "language_info": {
      "name": "python"
    }
  },
  "cells": [
    {
      "cell_type": "markdown",
      "metadata": {
        "id": "view-in-github",
        "colab_type": "text"
      },
      "source": [
        "<a href=\"https://colab.research.google.com/github/thevivekrathi/sudoku_checker/blob/main/Sudoku_Checker.ipynb\" target=\"_parent\"><img src=\"https://colab.research.google.com/assets/colab-badge.svg\" alt=\"Open In Colab\"/></a>"
      ]
    },
    {
      "cell_type": "markdown",
      "metadata": {
        "id": "tVRAE6Ccsniu"
      },
      "source": [
        "### This notebook helps evealuate a **Sudoku** board for errors at any given point.\n",
        "\n",
        "### Our function return **Legal** if there is no error in the board and if there is an error then it will return the quadrant number/s that contains the issue. \n",
        "\n",
        "### Quadrants are numbered from 1 to 9 from top left to the right bottom\n",
        "\n"
      ]
    },
    {
      "cell_type": "code",
      "metadata": {
        "id": "RDENOR2FsJeA"
      },
      "source": [
        "board_1 = [\"(1,2,3,4,5,6,7,8,1)\",\\\n",
        "         \"(x,x,x,x,4,x,x,x,x)\",\\\n",
        "         \"(x,x,x,x,x,x,x,x,x)\",\\\n",
        "         \"(1,x,x,x,x,x,x,8,x)\",\\\n",
        "         \"(x,x,x,x,x,x,x,x,x)\",\\\n",
        "         \"(x,x,x,x,x,x,x,x,x)\",\\\n",
        "         \"(x,x,x,x,x,x,x,x,x)\",\\\n",
        "         \"(x,x,x,1,2,3,x,8,x)\",\\\n",
        "         \"(x,x,x,3,7,8,x,x,x)\"]"
      ],
      "execution_count": 10,
      "outputs": []
    },
    {
      "cell_type": "code",
      "metadata": {
        "colab": {
          "base_uri": "https://localhost:8080/"
        },
        "id": "1enGbK6q1eKE",
        "outputId": "c68a9d07-431e-4a22-8088-2f5874269742"
      },
      "source": [
        "board_1"
      ],
      "execution_count": 11,
      "outputs": [
        {
          "output_type": "execute_result",
          "data": {
            "text/plain": [
              "['(1,2,3,4,5,6,7,8,1)',\n",
              " '(x,x,x,x,4,x,x,x,x)',\n",
              " '(x,x,x,x,x,x,x,x,x)',\n",
              " '(1,x,x,x,x,x,x,8,x)',\n",
              " '(x,x,x,x,x,x,x,x,x)',\n",
              " '(x,x,x,x,x,x,x,x,x)',\n",
              " '(x,x,x,x,x,x,x,x,x)',\n",
              " '(x,x,x,1,2,3,x,8,x)',\n",
              " '(x,x,x,3,7,8,x,x,x)']"
            ]
          },
          "metadata": {
            "tags": []
          },
          "execution_count": 11
        }
      ]
    },
    {
      "cell_type": "code",
      "metadata": {
        "id": "uLzwuJtn1fX2"
      },
      "source": [
        "def SudokuQuadrantChecker(strArr):\n",
        "  temp =[]\n",
        "\n",
        "  for i in range(9):\n",
        "    strArr[i] = strArr[i].replace('(','').replace(')','')\n",
        "    strArr[i] = strArr[i].replace(',','')\n",
        "\n",
        "  if row_checker(strArr) == 'Legal' and col_checker(strArr) == 'Legal' and quad_checker(strArr) == 'Legal':\n",
        "    strArr = 'Legal'\n",
        "  else:\n",
        "    temp.append(row_checker(strArr))\n",
        "    temp.append(col_checker(strArr))\n",
        "    temp.append(quad_checker(strArr))\n",
        "    #strArr = temp\n",
        "    for i in temp:\n",
        "      if type(i) == str:\n",
        "        temp.remove(i)\n",
        "   \n",
        "    a = set()\n",
        "    a = {i for j in temp for i in j}\n",
        "    #print(a)\n",
        "    \n",
        "    strArr = ','.join(str(s) for s in a)\n",
        "  return strArr\n",
        "\n",
        "def row_checker(strArr):\n",
        "  q = []\n",
        "  for i in range(9):\n",
        "    row = {}\n",
        "    for j in range(9):\n",
        "      if strArr[i][j] != 'x' and strArr[i][j] in row.keys():\n",
        "        if strArr[i][j] in row.keys():\n",
        "          a = quad_number(row[strArr[i][j]][0], row[strArr[i][j]][1])\n",
        "        q.append(a)\n",
        "        q.append(quad_number(i,j))\n",
        "      row[strArr[i][j]] =(i,j)\n",
        "  if len(q) > 0:\n",
        "    return q\n",
        "  else:    \n",
        "    return 'Legal'\n",
        "\n",
        "def col_checker(strArr):\n",
        "  q=[]\n",
        "  for i in range(9):\n",
        "    col = {}\n",
        "    for j in range(9):\n",
        "      if strArr[j][i] != 'x' and strArr[j][i] in col.keys():\n",
        "        if strArr[j][i] in col.keys():\n",
        "          q.append(quad_number(col[strArr[j][i]][0], col[strArr[j][i]][1]))\n",
        "          q.append(quad_number(j,i))\n",
        "      col[strArr[j][i]] =(j,i)\n",
        "  if len(q) > 0:\n",
        "      return q\n",
        "  else:    \n",
        "      return 'Legal'\n",
        "\n",
        "def quad_checker(strArr):\n",
        "  q = []\n",
        "  for i in range(9):\n",
        "    quad = {}\n",
        "    for j in range(9):\n",
        "      r = 3*(i//3)+(j//3)\n",
        "      c = 3*(i%3)+(j%3)\n",
        "      if strArr[r][c] != 'x' and strArr[r][c] in quad.keys():\n",
        "        if strArr[r][c] in quad.keys():\n",
        "          q.append(quad_number(quad[strArr[r][c]][0], quad[strArr[r][c]][1]))\n",
        "          q.append(quad_number(r,c))\n",
        "      quad[strArr[r][c]] =(r,c)\n",
        "  if len(q) > 0:\n",
        "    return q\n",
        "  else:    \n",
        "    return 'Legal'\n",
        "\n",
        "def quad_number(row, col):\n",
        "  if row in (0,1,2) and col in (0,1,2):\n",
        "    return 1\n",
        "  if row in (0,1,2) and col in (3,4,5):\n",
        "    return 2\n",
        "  if row in (0,1,2) and col in (6,7,8):\n",
        "    return 3\n",
        "  if row in (3,4,5) and col in (0,1,2):\n",
        "    return 4\n",
        "  if row in (3,4,5) and col in (3,4,5):\n",
        "    return 5\n",
        "  if row in (3,4,5) and col in (6,7,8):\n",
        "    return 6\n",
        "  if row in (6,7,8) and col in (0,1,2):\n",
        "    return 7\n",
        "  if row in (6,7,8) and col in (3,4,5):\n",
        "    return 8\n",
        "  if row in (6,7,8) and col in (6,7,8):\n",
        "    return 9\n",
        "  \n"
      ],
      "execution_count": 12,
      "outputs": []
    },
    {
      "cell_type": "code",
      "metadata": {
        "colab": {
          "base_uri": "https://localhost:8080/",
          "height": 35
        },
        "id": "FQvoTmQ82aH6",
        "outputId": "167c3808-0b6e-4199-abaa-d3f56fb1b39a"
      },
      "source": [
        "SudokuQuadrantChecker(board_1)"
      ],
      "execution_count": 13,
      "outputs": [
        {
          "output_type": "execute_result",
          "data": {
            "application/vnd.google.colaboratory.intrinsic+json": {
              "type": "string"
            },
            "text/plain": [
              "'1,2,3,4,6,8,9'"
            ]
          },
          "metadata": {
            "tags": []
          },
          "execution_count": 13
        }
      ]
    },
    {
      "cell_type": "code",
      "metadata": {
        "id": "jDQJY2kt2eBy"
      },
      "source": [
        "board_2 = [\"(1,2,3,4,5,6,7,8,9)\",\\\n",
        "         \"(x,x,x,x,1,x,x,x,x)\",\\\n",
        "         \"(x,x,x,x,x,x,x,x,x)\",\\\n",
        "         \"(9,x,x,x,x,x,x,7,x)\",\\\n",
        "         \"(x,x,x,x,x,x,x,x,x)\",\\\n",
        "         \"(x,x,x,x,x,x,x,x,x)\",\\\n",
        "         \"(x,x,x,x,x,x,x,x,x)\",\\\n",
        "         \"(x,x,x,1,2,3,x,6,x)\",\\\n",
        "         \"(x,x,x,9,7,8,x,x,x)\"]"
      ],
      "execution_count": 16,
      "outputs": []
    },
    {
      "cell_type": "code",
      "metadata": {
        "colab": {
          "base_uri": "https://localhost:8080/",
          "height": 35
        },
        "id": "rOgGe-572th2",
        "outputId": "6385e5f6-152e-437f-9d22-8e68b2a70e0d"
      },
      "source": [
        "SudokuQuadrantChecker(board_2)"
      ],
      "execution_count": 17,
      "outputs": [
        {
          "output_type": "execute_result",
          "data": {
            "application/vnd.google.colaboratory.intrinsic+json": {
              "type": "string"
            },
            "text/plain": [
              "'Legal'"
            ]
          },
          "metadata": {
            "tags": []
          },
          "execution_count": 17
        }
      ]
    },
    {
      "cell_type": "code",
      "metadata": {
        "id": "s9Qrv8a92xFR"
      },
      "source": [
        ""
      ],
      "execution_count": null,
      "outputs": []
    }
  ]
}